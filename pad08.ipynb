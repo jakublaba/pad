{
 "cells": [
  {
   "cell_type": "code",
   "execution_count": null,
   "id": "0",
   "metadata": {},
   "outputs": [],
   "source": [
    "import pandas as pd\n",
    "import plotly.express as px\n",
    "import plotly.graph_objects as go\n",
    "import statsmodels.api as sm\n",
    "from scipy.stats import shapiro"
   ]
  },
  {
   "cell_type": "markdown",
   "id": "1",
   "metadata": {},
   "source": [
    "# Zadanie 1 (4 pkt)\n",
    "Przeprowadź test T studenta na danych w pliku `wyniki.csv`. \\\n",
    "<u>Hipoteza zerowa</u> brzmi: Nie ma istotnej różnicy w ocenie końcowej pomiędzy uczniami i uczennicami. \\\n",
    "<u>Hipoteza alternatywna</u> brzmi: Istnieje istotna różnica (bez wskazania kierunku) w ocenie końcowej pomiędzy uczniami i uczennicami. \\\n",
    "Przyjmij significance level $\\alpha=0.05$. Czy uda się odrzucić hipotezę zerową?"
   ]
  },
  {
   "cell_type": "code",
   "execution_count": null,
   "id": "2",
   "metadata": {},
   "outputs": [],
   "source": [
    "\n",
    "ALPHA = 0.05\n",
    "\n",
    "df = pd.read_csv(\"data/08/wyniki.csv\")\n",
    "\n",
    "m = df[df[\"plec\"] == \"M\"][\"ocena_koncowa\"]\n",
    "f = df[df[\"plec\"] == \"F\"][\"ocena_koncowa\"]\n",
    "\n",
    "# sprawdzamy czy dane są rozkładu normalnego\n",
    "# pierwszy sposób - test shapiro-wilka (czy pvalue > alpha)\n",
    "shapiro_m = shapiro(m)\n",
    "m_ok = shapiro_m.pvalue > ALPHA\n",
    "shapiro_f = shapiro(f)\n",
    "f_ok = shapiro_m.pvalue > ALPHA\n",
    "print(f\"Shapiro-Wilk pvalue (M): {shapiro_m.pvalue}, OK: {m_ok}\")\n",
    "print(f\"Shapiro-Wilk pvalue (F): {shapiro_f.pvalue}, OK: {f_ok}\")\n",
    "# drugi sposób - z histogramu na oko (widać że niezbyt)\n",
    "fig_m = go.Figure()\n",
    "fig_m.add_trace(go.Histogram(x=m, name=\"M\"))\n",
    "fig_m.show()\n",
    "\n",
    "fig_f = go.Figure()\n",
    "fig_f.add_trace(go.Histogram(x=f, name=\"F\"))\n",
    "fig_f.show()\n",
    "\n",
    "# założenia testu t-studenta nie są spełnione, więc można odrzucić hipotezę zerową"
   ]
  },
  {
   "cell_type": "markdown",
   "id": "3",
   "metadata": {},
   "source": [
    "# Zadanie 2 (2 pkt)\n",
    "Korzystając z danych w pliku `ZyskiFirmyX.csv`, stwórz model regresji liniowej i biblioteki `statsmodels`:\n",
    "- Wyświetl wykres pokazujący zyski w czasie\n",
    "- Czy da się zaobserwować trend? Jaki?\n",
    "- Wyświetl podsumowanie modelu"
   ]
  },
  {
   "cell_type": "code",
   "execution_count": null,
   "id": "4",
   "metadata": {},
   "outputs": [],
   "source": [
    "df = pd.read_csv(\"data/08/ZyskiFirmyX.csv\")\n",
    "\n",
    "X = sm.add_constant(df[\"Rok\"])\n",
    "Y = df[\"Zysk\"]\n",
    "model = sm.OLS(Y, X).fit()\n",
    "df[\"Trend\"] = model.predict(X)\n",
    "\n",
    "fig = px.scatter(df, x=\"Rok\", y=\"Zysk\")\n",
    "fig.add_trace(go.Scatter(x=df[\"Rok\"], y=df[\"Trend\"], mode=\"lines\", name=\"Trend\"))\n",
    "fig.update_layout(xaxis_title=\"Rok\", yaxis_title=\"Zysk\")\n",
    "fig.show()\n",
    "# trend jest bardzo delikatnie spadkowy\n",
    "\n",
    "model.summary()"
   ]
  },
  {
   "cell_type": "markdown",
   "id": "5",
   "metadata": {},
   "source": [
    "# Zadanie 3 (6 pkt)\n",
    "Korzystając z danych w pliku `spendingscores.csv` i biblioteki `statsmodels`:\n",
    "1. Stwórz model regresji liniowej gdzie zmienną zależną jest `Spending score`, a zmiennymi niezależnymi pozostałe zmienne\n",
    "2. Z modelu wyświetl:\n",
    "    - p values\n",
    "    - standard dev\n",
    "    - coefficients\n",
    "3. Sprawdź czy istnieje korelacja pomiędzy zmiennymi. Pokaż to na wykresie\n",
    "4. Korzystając z eliminacji wstecznej, usuń najmniej istotną zmienną i jeszcze raz wyświetl model"
   ]
  },
  {
   "cell_type": "code",
   "execution_count": null,
   "id": "6",
   "metadata": {},
   "outputs": [],
   "source": [
    "def print_model_summary(model):\n",
    "    print(f\"P values:\\n{model.pvalues}\")\n",
    "    print(f\"Standard dev:\\n{model.bse}\")\n",
    "    print(f\"Coefficients:\\n{model.params}\")\n",
    "\n",
    "\n",
    "df = pd.read_csv(\"data/08/spendingscores.csv\")\n",
    "\n",
    "df[\"Gender\"] = df[\"Gender\"].map({\"Male\": 1, \"Female\": 0})\n",
    "\n",
    "x = sm.add_constant(df[[\"Gender\", \"Age\", \"AnnualIncome\"]])\n",
    "y = df[\"SpendingScore\"]\n",
    "model = sm.OLS(y, x).fit()\n",
    "print_model_summary(model)\n",
    "\n",
    "corr = df.corr()\n",
    "fig = px.imshow(corr, text_auto=True, title=\"Correlation matrix\")\n",
    "fig.show()\n",
    "\n",
    "p_values = model.pvalues\n",
    "max_p_value = p_values.max()\n",
    "excluded_var = p_values.idxmax()\n",
    "print(f\"Najmniej istotna zmienna: {excluded_var} (p-value: {max_p_value})\")\n",
    "x = x.drop(columns=[excluded_var])\n",
    "model = sm.OLS(y, x).fit()\n",
    "print_model_summary(model)"
   ]
  }
 ],
 "metadata": {
  "kernelspec": {
   "display_name": "Python 3",
   "language": "python",
   "name": "python3"
  },
  "language_info": {
   "codemirror_mode": {
    "name": "ipython",
    "version": 2
   },
   "file_extension": ".py",
   "mimetype": "text/x-python",
   "name": "python",
   "nbconvert_exporter": "python",
   "pygments_lexer": "ipython2",
   "version": "2.7.6"
  }
 },
 "nbformat": 4,
 "nbformat_minor": 5
}
