{
 "cells": [
  {
   "cell_type": "code",
   "execution_count": null,
   "id": "0",
   "metadata": {},
   "outputs": [],
   "source": [
    "from typing import Annotated\n",
    "\n",
    "import numpy as np\n",
    "import pandas as pd\n",
    "import seaborn as sns\n",
    "\n",
    "sns.set_theme()\n",
    "\n",
    "Matrix = Annotated[np.ndarray, \"2D\"]\n",
    "\n",
    "\n",
    "def fmt(matrix: Matrix) -> str:\n",
    "    return \"\\n\".join(\n",
    "        \"| \" + \" \".join(f\"{x:10.7f}\" for x in row) + \" |\"\n",
    "        for row in matrix\n",
    "    )"
   ]
  },
  {
   "cell_type": "markdown",
   "id": "1",
   "metadata": {},
   "source": [
    "# Zadanie 1\n",
    "Korzystając z poniższego kodu oraz pliku `president_heights.csv` utwórz tablicę zawierającą wzrost prezydentów USA.\n",
    "```python\n",
    "import pandas as pd\n",
    "\n",
    "data = pd.read_csv(\"president_heights.csv\")\n",
    "heights = np.array(data[\"height(cm)\"])\n",
    "print(heights)\n",
    "```\n",
    "Korzystając z pakietu `numpy`, podaj:\n",
    "- średni wzrost\n",
    "- odchylenie standardowe\n",
    "- najwyższy oraz najniższy wzrost\n",
    "- 25 i 75 centyl\n",
    "- medianę"
   ]
  },
  {
   "cell_type": "code",
   "execution_count": null,
   "id": "2",
   "metadata": {},
   "outputs": [],
   "source": [
    "data = pd.read_csv(\"data/02/president_heights.csv\")\n",
    "heights = np.array(data[\"height(cm)\"])\n",
    "\n",
    "print(f\"Mean: {np.mean(heights)}\")\n",
    "print(f\"Median: {np.median(heights)}\")\n",
    "print(f\"Standard deviation: {np.std(heights)}\")\n",
    "print(f\"Min: {np.min(heights)}\")\n",
    "print(f\"Max: {np.max(heights)}\")\n",
    "print(f\"25th percentile: {np.percentile(heights, 25)}\")\n",
    "print(f\"75th percentile: {np.percentile(heights, 75)}\")\n"
   ]
  },
  {
   "cell_type": "markdown",
   "id": "3",
   "metadata": {},
   "source": [
    "# Zadanie 2\n",
    "Wgraj dane z pliku `Zadanie_2.csv` (macierz) \\\n",
    "a) Znajdź wektory i wartości własne \\\n",
    "b) Oblicz macierz odwrotną"
   ]
  },
  {
   "cell_type": "code",
   "execution_count": null,
   "id": "4",
   "metadata": {},
   "outputs": [],
   "source": [
    "mtrx = np.loadtxt(\"data/02/Zadanie_2 1.csv\", delimiter=\";\")\n",
    "\n",
    "eigenvectors, eigenvalues = np.linalg.eig(mtrx)\n",
    "inverse = np.linalg.inv(mtrx)\n",
    "\n",
    "print(f\"Eigenvectors: {eigenvectors}\")\n",
    "print(f\"Eigenvalues: {eigenvalues}\")\n",
    "print(f\"Inverse:\\n{fmt(inverse)}\")"
   ]
  },
  {
   "cell_type": "markdown",
   "id": "5",
   "metadata": {},
   "source": [
    "# Zadanie 3\n",
    "Plik `Seattle2014.csv` zawiera informacje o rocznych opadach w Seattle w 2014. \\\n",
    "Wykorzystaj kod poniżej do wczytania pliku.\n",
    "```python\n",
    "import numpy as np\n",
    "import pandas as pd\n",
    "\n",
    "rainfall = pd.read_csv(\"data/02/Seattle2014.csv\")[\"PRCP\"].values\n",
    "inches = rainfall / 254.\n",
    "```\n",
    "Możemy zwizualizować dane kodem:\n",
    "```python\n",
    "import matplotlib.pyplot as plt\n",
    "import seaborn\n",
    "\n",
    "seaborn.set() # set plot styles\n",
    "plt.hist(inches, 40)\n",
    "```\n",
    "Wykorzystując operatory logiczne, znajdź dni, kiedy:\n",
    "- nie padało\n",
    "- padało\n",
    "- spadło powyżej 0.5 cali deszczu\n",
    "- spadło poniżej 0.2 cali deszczu\n",
    "\n",
    "Korzystając z maskowania, policz następujące statystyki:\n",
    "- Medianę opadów w deszczowe dni\n",
    "- Medianę opadów latem (pomiędzy dniem 172 a 262)\n",
    "- Maksymalne opady latem\n",
    "- Maksymalne opady POZA latem"
   ]
  },
  {
   "cell_type": "code",
   "execution_count": null,
   "id": "6",
   "metadata": {},
   "outputs": [],
   "source": [
    "# load data + some util monkey patching\n",
    "df = pd.read_csv(\"data/02/Seattle2014.csv\")\n",
    "df[\"PRCP\"] = df[\"PRCP\"] / 254.\n",
    "\n",
    "\n",
    "def _to_days(self: pd.Index) -> list[int]:\n",
    "    return (self + 1).tolist()\n",
    "\n",
    "\n",
    "pd.Index.to_days = _to_days"
   ]
  },
  {
   "cell_type": "code",
   "execution_count": null,
   "id": "7",
   "metadata": {},
   "outputs": [],
   "source": [
    "no_rain = df[df[\"PRCP\"] == 0].index.to_days()\n",
    "rain = df[df[\"PRCP\"] != 0].index.to_days()\n",
    "above_05_inch = df[df[\"PRCP\"] > 0.5].index.to_days()\n",
    "below_02_inch = df[df[\"PRCP\"] < 0.2].index.to_days()\n",
    "\n",
    "print(f\"Days without rain: {no_rain}\")\n",
    "print(f\"Days with rain: {rain}\")\n",
    "print(f\"Days with rain above 0.5 inch: {above_05_inch}\")\n",
    "print(f\"Days with rain below 0.2 inch: {below_02_inch}\")"
   ]
  },
  {
   "cell_type": "markdown",
   "id": "8",
   "metadata": {},
   "source": [
    "# Zadanie 4\n",
    "Dane są wektory $A$ i $B$.\n",
    "```python\n",
    "A = [0, 3, 2, 5]\n",
    "B = [0, 3, 1, 4]\n",
    "```\n",
    "Wykonaj następujące operacje (używając `numpy`):\n",
    "- Dodaj wektory\n",
    "- Odejmij $B$ od $A$\n",
    "- Pomnóż $A$ przez skalar $a=4$\n",
    "- Oblicz iloczyn skalarny wektorów\n",
    "- Znajdź długość wektora $B$ (matematyczną, nie długość listy w pythonie)"
   ]
  },
  {
   "cell_type": "markdown",
   "id": "9",
   "metadata": {},
   "source": [
    "# Zadanie 4\n",
    "Dane są wektory $A$ i $B$.\n",
    "```python\n",
    "A = [0, 3, 2, 5]\n",
    "B = [0, 3, 1, 4]\n",
    "```\n",
    "Wykonaj następujące operacje (używając `numpy`):\n",
    "- Dodaj wektory\n",
    "- Odejmij $B$ od $A$\n",
    "- Pomnóż $A$ przez skalar $a=4$\n",
    "- Oblicz iloczyn skalarny wektorów\n",
    "- Znajdź długość wektora $B$ (matematyczną, nie długość listy w pythonie)"
   ]
  },
  {
   "cell_type": "code",
   "execution_count": null,
   "id": "10",
   "metadata": {},
   "outputs": [],
   "source": [
    "A = np.array([0, 3, 2, 5])\n",
    "B = np.array([0, 3, 1, 4])\n",
    "\n",
    "print(f\"A + B = {A + B}\")\n",
    "print(f\"B - A = {B - A}\")\n",
    "print(f\"A * 4 = {A * 4}\")\n",
    "print(f\"A * B = {A * B}\")\n",
    "print(f\"|B| = {np.linalg.norm(B)}\")"
   ]
  }
 ],
 "metadata": {
  "kernelspec": {
   "display_name": "Python 3",
   "language": "python",
   "name": "python3"
  },
  "language_info": {
   "codemirror_mode": {
    "name": "ipython",
    "version": 2
   },
   "file_extension": ".py",
   "mimetype": "text/x-python",
   "name": "python",
   "nbconvert_exporter": "python",
   "pygments_lexer": "ipython2",
   "version": "2.7.6"
  }
 },
 "nbformat": 4,
 "nbformat_minor": 5
}
