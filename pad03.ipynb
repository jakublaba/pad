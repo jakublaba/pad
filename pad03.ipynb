{
 "cells": [
  {
   "cell_type": "code",
   "execution_count": null,
   "metadata": {
    "id": "AJoEBjSRCqCc"
   },
   "outputs": [],
   "source": [
    "import pandas as pd"
   ]
  },
  {
   "cell_type": "markdown",
   "metadata": {
    "id": "7Zw0e5VcQhlb"
   },
   "source": [
    "## Praca domowa (8 pkt)"
   ]
  },
  {
   "cell_type": "markdown",
   "metadata": {
    "id": "2q2iNDY0Qnse"
   },
   "source": [
    "Wgraj dane z pliku DANE_PAD_O3.csv jako ramkę danych.\n",
    "\n",
    "Oblicz liczebność każdej wartości w kolumnie COUNTRY."
   ]
  },
  {
   "cell_type": "code",
   "execution_count": null,
   "metadata": {
    "id": "Ljn2sReJQnb-"
   },
   "outputs": [],
   "source": [
    "df = pd.read_csv(\"data/03/PAD_03_PD.csv\", sep=\";\")\n",
    "\n",
    "counts = df[\"Country\"].value_counts()\n",
    "counts.head(4)"
   ]
  },
  {
   "cell_type": "markdown",
   "metadata": {
    "id": "ryp9NHSNQz34"
   },
   "source": [
    "W nowej kolumnie ‘owned_goods’ dodaj zmienną, która będzie informowała o liczbie posiadanych dóbr (zliczyć ile dana osoba posiada w sumie dóbr)."
   ]
  },
  {
   "cell_type": "code",
   "execution_count": null,
   "metadata": {
    "id": "2p5gvW74QlcH"
   },
   "outputs": [],
   "source": [
    "goods_columns = [*filter(lambda c: c.startswith(\"owns\"), df.columns.tolist())]\n",
    "df[\"owned_goods\"] = df[goods_columns].sum(axis=1)\n",
    "df[\"owned_goods\"] = df[\"owned_goods\"]"
   ]
  },
  {
   "cell_type": "markdown",
   "metadata": {
    "id": "GUsCYeEbRDXG"
   },
   "source": [
    "Porównaj średnią posiadanych dóbr między kobietami i mężczyznami. Wynik zaokrąglij do 2 miejsc po przecinku."
   ]
  },
  {
   "cell_type": "code",
   "execution_count": null,
   "metadata": {
    "id": "aT2-JxtsRFIO"
   },
   "outputs": [],
   "source": [
    "avg_goods_m = df[df[\"gender\"] == \"M\"][\"owned_goods\"].mean().round(2)\n",
    "avg_goods_f = df[df[\"gender\"] == \"K\"][\"owned_goods\"].mean().round(2)\n",
    "\n",
    "pd.DataFrame({\n",
    "    \"gender\": [\"M\", \"F\"],\n",
    "    \"avg_owned_goods\": [avg_goods_m, avg_goods_f]\n",
    "}).head(2)"
   ]
  },
  {
   "cell_type": "markdown",
   "metadata": {
    "id": "1g0_uL2xRFr9"
   },
   "source": [
    "Stwórz ramkę danych, która zawierać będzie w pierwszej kolumnie wartość zmiennej COUNTRY, w drugiej kolumnie, średnią posiadanych dóbr w danym kraju (Wynik zaokrąglij do 2 miejsc po przecink), a w trzeciej kolumnie minimum wieku."
   ]
  },
  {
   "cell_type": "code",
   "execution_count": null,
   "metadata": {
    "id": "bBxTCYXlRH1y"
   },
   "outputs": [],
   "source": [
    "avg_owned_goods = df.groupby(\"Country\")[\"owned_goods\"].mean()\n",
    "min_ages = df.groupby(\"Country\")[\"Age\"].min()\n",
    "\n",
    "df2 = pd.merge(avg_owned_goods, min_ages, on=\"Country\")\n",
    "df2.rename({\n",
    "    \"owned_goods\": \"avg_owned_goods\",\n",
    "    \"Age\": \"age\"\n",
    "})\n",
    "\n",
    "df2.head(4)"
   ]
  }
 ],
 "metadata": {
  "colab": {
   "provenance": []
  },
  "kernelspec": {
   "display_name": "Python 3 (ipykernel)",
   "language": "python",
   "name": "python3"
  },
  "language_info": {
   "codemirror_mode": {
    "name": "ipython",
    "version": 3
   },
   "file_extension": ".py",
   "mimetype": "text/x-python",
   "name": "python",
   "nbconvert_exporter": "python",
   "pygments_lexer": "ipython3",
   "version": "3.12.5"
  }
 },
 "nbformat": 4,
 "nbformat_minor": 0
}
