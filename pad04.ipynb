{
 "cells": [
  {
   "cell_type": "code",
   "execution_count": null,
   "metadata": {},
   "outputs": [],
   "source": [
    "from datetime import datetime\n",
    "from typing import NamedTuple, Optional\n",
    "\n",
    "import pandas as pd"
   ]
  },
  {
   "cell_type": "markdown",
   "metadata": {
    "id": "6s5atoa1swg0"
   },
   "source": [
    "# Zadanie 1 (5 pkt)\n",
    "\n",
    "\n",
    "Wgraj zawartość pliku orders.csv do ramki danych.\n",
    "Przyjrzyj się danym, wykorzystując poznane metody (describe, info, head) zanalizuj dane.\n",
    "\n",
    "Następnie:\n",
    "\n",
    "\n",
    "\n",
    "1. Zamień order_date na format daty. Upewnij się, że w rezultacie data będzie w formacie: rok-miesiąc-dzień;\n",
    "2. Sprawdź ile i jakie unikalne wartości znajdują się w kolumnie T-shirt category;\n",
    "3. Wyczyść kolumnę tshirt_category normalizując nazwy produktów. Upewnij się, że dla każdej kategorii funkcjonuje jedna nazwa, np. zamiast white i wh jest tylko jedna wersja white.\n",
    "4. Rozdziel kolumnę tshirt category na 3 kolumny: tshirt_type, która będzie mówiła o tym czy jest to koszulka, bluza czy coś innego, tshirt_department, która będzie informowała o tym czy jest męska czy żeńska, i tshirt_colour, która będzie informowała o kolorze. Skorzystaj z metody apply.\n",
    "5. Znajdź zamówienia złożone między 31 grudnia 2014 a 2 sierpnia 2016.\n"
   ]
  },
  {
   "cell_type": "code",
   "execution_count": null,
   "metadata": {
    "id": "Ktake9Iqsl1O"
   },
   "outputs": [],
   "source": [
    "orders = pd.read_csv(\"data/04/orders.csv\", sep=\",\")\n",
    "\n",
    "# 1.\n",
    "orders[\"order_date\"] = pd.to_datetime(orders[\"order_date\"])\n",
    "\n",
    "# 2.\n",
    "uniq_tshirt_categories = orders[\"tshirt_category\"].unique()\n",
    "print(\"BEFORE CLEANING\")\n",
    "print(f\"{len(uniq_tshirt_categories)} unique t-shirt categories: {uniq_tshirt_categories}\")\n",
    "\n",
    "# 3.\n",
    "orders[\"tshirt_category\"] = orders[\"tshirt_category\"].str.replace(\"Wh Tshirt\", \"White T-Shirt\", regex=False)\n",
    "orders[\"tshirt_category\"] = orders[\"tshirt_category\"].str.replace(\"Bl Tshirt\", \"Black T-Shirt\", regex=False)\n",
    "\n",
    "uniq_tshirt_categories = orders[\"tshirt_category\"].unique()\n",
    "print(\"AFTER CLEANING\")\n",
    "print(f\"{len(uniq_tshirt_categories)} unique t-shirt categories: {uniq_tshirt_categories}\")\n",
    "\n",
    "\n",
    "# 4.\n",
    "class TShirtCategory(NamedTuple):\n",
    "    tshirt_color: Optional[str]\n",
    "    tshirt_type: Optional[str]\n",
    "    tshirt_department: Optional[str]\n",
    "\n",
    "    @staticmethod\n",
    "    def parse(category: str) -> \"TShirtCategory\":\n",
    "        category_parts = category.split(\" \")\n",
    "        match len(category_parts):\n",
    "            case 3:\n",
    "                return TShirtCategory(*category_parts)\n",
    "            case 2 | 1:  # w tych przypadkach 'category' jest od razu typem, a reszty danych brakuje\n",
    "                return TShirtCategory(None, category, None)\n",
    "            case _:\n",
    "                return TShirtCategory(None, None, None)\n",
    "\n",
    "\n",
    "orders[[*TShirtCategory._fields]] = orders[\"tshirt_category\"].apply(lambda c: pd.Series(TShirtCategory.parse(c)))\n",
    "\n",
    "# 5.\n",
    "start_date = datetime(2014, 12, 31)\n",
    "end_date = datetime(2016, 8, 2)\n",
    "period = (orders[\"order_date\"] > start_date) & (orders[\"order_date\"] < end_date)\n",
    "print(f\"Orders between {start_date} and {end_date}:\")\n",
    "orders[period].head(99999)"
   ]
  },
  {
   "cell_type": "markdown",
   "metadata": {
    "id": "g0QB8rtHtGhT"
   },
   "source": [
    "# Zadanie 2 (4 pkt)\n",
    "\n",
    "\n",
    "Wgraj plik customers.csv do ramki danych.\n",
    "\n",
    "Następnie:\n",
    "1. Wypisz kolumny;\n",
    "2. Porównaj rozmiar ramki z rozmiarem ramki w zadaniu 1;\n",
    "3. Zmień nazwę kolumny customerID  na customer_id upewniając się, że dane zmiana zostanie zapisana w pamięci dzięki jednemu z argumentów metody do zmiany nazwy kolumny;\n",
    "4. Połącz ramkę orders z ramką customers po kolumnie customer_id. Z której metody skorzystasz? Zostaw odpowiedź w komentarzu do zadania w kodzie (np. blok komentarzem ‘’’ ‘’’).\n"
   ]
  },
  {
   "cell_type": "code",
   "execution_count": null,
   "metadata": {
    "id": "_rfPFhLGtRm-"
   },
   "outputs": [],
   "source": [
    "customers = pd.read_csv(\"data/04/customers.csv\", sep=\",\")\n",
    "# 1.\n",
    "print(f\"Customer DF columns {customers.columns.tolist()}\")\n",
    "\n",
    "# 2.\n",
    "orders_rows, orders_cols = orders.shape\n",
    "customers_rows, customers_cols = customers.shape\n",
    "print(f\"Orders:\\n\\trows: {orders_rows}\\n\\tcols: {orders_cols}\")\n",
    "print(f\"Customers:\\n\\trows: {customers_rows}\\n\\tcols: {customers_cols}\")\n",
    "\n",
    "# 3.\n",
    "customers.rename({\"customerID\": \"customer_id\"}, axis=\"columns\", inplace=True)\n",
    "\n",
    "# 4.\n",
    "\"\"\"\n",
    "Left join klientów do zamówień pozwala mieć kompletne dane każdego zamówienia, ale tracimy\n",
    "w ten sposób dane klientów którzy nic nie zamówili.\n",
    "Gdybyśmy chcieli nie stracić żadnego rekordu z obu ramek, to inner join też będzie w porządku.\n",
    "\"\"\"\n",
    "joined_table = pd.merge(orders, customers, on=\"customer_id\", how=\"left\")\n",
    "\n",
    "joined_table.head(100)"
   ]
  },
  {
   "cell_type": "markdown",
   "metadata": {
    "id": "bCKqMqJQtR8s"
   },
   "source": [
    "# Zadanie 3 (1 pkt)\n",
    "\n",
    "Nową ramkę (połączenie orders i customers) zapisz do pliku csv, ale zapisz bez kolumny z indeksem.\n"
   ]
  },
  {
   "cell_type": "code",
   "execution_count": null,
   "metadata": {
    "id": "J2gA9RVStSTa"
   },
   "outputs": [],
   "source": [
    "joined_table.to_csv(\"data/04/zad3_out.csv\", index=False)"
   ]
  }
 ],
 "metadata": {
  "colab": {
   "provenance": []
  },
  "kernelspec": {
   "display_name": "Python 3 (ipykernel)",
   "language": "python",
   "name": "python3"
  },
  "language_info": {
   "name": "python"
  }
 },
 "nbformat": 4,
 "nbformat_minor": 0
}
