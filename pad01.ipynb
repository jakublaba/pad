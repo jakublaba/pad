{
 "cells": [
  {
   "cell_type": "code",
   "execution_count": null,
   "id": "0",
   "metadata": {},
   "outputs": [],
   "source": [
    "from typing import Annotated\n",
    "\n",
    "import numpy as np\n",
    "\n",
    "Matrix = Annotated[np.ndarray, \"2D\"]\n",
    "\n",
    "\n",
    "def fmt(matrix: Matrix) -> str:\n",
    "    return \"\\n\".join(\n",
    "        \"| \" + \" \".join(f\"{x:10.7f}\" for x in row) + \" |\"\n",
    "        for row in matrix\n",
    "    )\n"
   ]
  },
  {
   "cell_type": "markdown",
   "id": "1",
   "metadata": {},
   "source": [
    "# Zadanie 1\n",
    "Wczytaj `Zadanie_1.csv` \\\n",
    "a) Ile komórek ma macierz? \\\n",
    "b) Ile wierszy / kolumn? \\\n",
    "c) Średnia, mediana, wariancja \\\n",
    "d) Powtórz c), ale usuń braki danych (`nan`)"
   ]
  },
  {
   "cell_type": "code",
   "execution_count": null,
   "id": "2",
   "metadata": {},
   "outputs": [],
   "source": [
    "mtrx = np.genfromtxt(\"data/01/Zadanie_1.csv\", delimiter=\";\", skip_header=1)\n",
    "\n",
    "cols, rows = mtrx.shape\n",
    "\n",
    "print(f\"a) {cols * rows} cells\")\n",
    "print(f\"b) {rows} rows, {cols} columns\")\n",
    "print(f\"c) Mean: {np.mean(mtrx)}, Median: {np.median(mtrx)}, Variance: {np.var(mtrx)}\")\n",
    "print(f\"d) Mean: {np.nanmean(mtrx)}, Median: {np.nanmedian(mtrx)}, Variance: {np.nanvar(mtrx)}\")"
   ]
  },
  {
   "cell_type": "markdown",
   "id": "3",
   "metadata": {},
   "source": [
    "# Zadanie 2\n",
    "Wczytaj `Zadanie_2.csv` \\\n",
    "a) Wektory i wartości własne \\\n",
    "b) Macierz odwrotna"
   ]
  },
  {
   "cell_type": "code",
   "execution_count": null,
   "id": "4",
   "metadata": {},
   "outputs": [],
   "source": [
    "mtrx = np.genfromtxt(\"data/01/Zadanie_2.csv\", delimiter=\";\")\n",
    "\n",
    "eigenvalues, eigenvectors = np.linalg.eig(mtrx)\n",
    "inverse = np.linalg.inv(mtrx)\n",
    "\n",
    "print(f\"a1) Eigenvectors:\")\n",
    "for v in eigenvectors:\n",
    "    print(v)\n",
    "print(f\"a2) Eigenvalues: {eigenvalues}\")\n",
    "print(f\"b) Inverse matrix:\\n{fmt(inverse)}\")"
   ]
  },
  {
   "cell_type": "markdown",
   "id": "5",
   "metadata": {},
   "source": [
    "# Zadanie 3\n",
    "Wczytaj 2 macierze: `Zadanie_3_macierz_A.csv` i `Zadanie_3_macierz_B.csv` \\\n",
    "Wykorzystaj następujący wzór:\n",
    "$$\n",
    "\\frac{A \\cdot B}{||A|| \\cdot ||B||} = \\frac{\\sum_{i=1}^nA_iB_i}{\\sqrt{\\sum_{i=1}^nA_i^2}\\sqrt{\\sum_{i=1}^nB_i^2}}\n",
    "$$\n",
    "Gdzie $A$ i $B$ to wektory reprezentujące kolejne kolumny. \\\n",
    "Aby stworzyć macierz podobieństwa w oparciu o macierze z plików."
   ]
  },
  {
   "cell_type": "code",
   "execution_count": null,
   "id": "6",
   "metadata": {},
   "outputs": [],
   "source": [
    "A = np.genfromtxt(\"data/01/Zadanie_3_macierz_A.csv\", delimiter=\",\")\n",
    "B = np.genfromtxt(\"data/01/Zadanie_3_macierz_B.csv\", delimiter=\",\")\n",
    "\n",
    "cosine_similarity_mtrx = np.dot(A, B.T) / np.outer(np.sqrt(np.sum(A ** 2, axis=1)), np.sqrt(np.sum(B ** 2, axis=1)))\n",
    "\n",
    "print(fmt(cosine_similarity_mtrx))"
   ]
  }
 ],
 "metadata": {
  "kernelspec": {
   "display_name": "Python 3",
   "language": "python",
   "name": "python3"
  },
  "language_info": {
   "codemirror_mode": {
    "name": "ipython",
    "version": 2
   },
   "file_extension": ".py",
   "mimetype": "text/x-python",
   "name": "python",
   "nbconvert_exporter": "python",
   "pygments_lexer": "ipython2",
   "version": "2.7.6"
  }
 },
 "nbformat": 4,
 "nbformat_minor": 5
}
