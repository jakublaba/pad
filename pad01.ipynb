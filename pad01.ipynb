{
 "cells": [
  {
   "metadata": {},
   "cell_type": "code",
   "source": [
    "from typing import Annotated\n",
    "\n",
    "import numpy as np\n",
    "\n",
    "Matrix = Annotated[np.ndarray, \"2D\"]\n",
    "\n",
    "\n",
    "def fmt(matrix: Matrix) -> str:\n",
    "    return \"\\n\".join(\n",
    "        \"| \" + \" \".join(f\"{x:10.7f}\" for x in row) + \" |\"\n",
    "        for row in matrix\n",
    "    )\n"
   ],
   "id": "4ea4a765a0a2a428",
   "outputs": [],
   "execution_count": null
  },
  {
   "metadata": {},
   "cell_type": "markdown",
   "source": [
    "# Zadanie 1\n",
    "Wczytaj `Zadanie_1.csv` \\\n",
    "a) Ile komórek ma macierz? \\\n",
    "b) Ile wierszy / kolumn? \\\n",
    "c) Średnia, mediana, wariancja \\\n",
    "d) Powtórz c), ale usuń braki danych (`nan`)"
   ],
   "id": "abb77d80a4696a82"
  },
  {
   "metadata": {},
   "cell_type": "code",
   "source": [
    "mtrx = np.genfromtxt(\"data/01/Zadanie_1.csv\", delimiter=\";\", skip_header=1)\n",
    "\n",
    "cols, rows = mtrx.shape\n",
    "\n",
    "print(f\"a) {cols * rows} cells\")\n",
    "print(f\"b) {rows} rows, {cols} columns\")\n",
    "print(f\"c) Mean: {np.mean(mtrx)}, Median: {np.median(mtrx)}, Variance: {np.var(mtrx)}\")\n",
    "print(f\"d) Mean: {np.nanmean(mtrx)}, Median: {np.nanmedian(mtrx)}, Variance: {np.nanvar(mtrx)}\")"
   ],
   "id": "2b9ce25aa4fcfa05",
   "outputs": [],
   "execution_count": null
  },
  {
   "metadata": {},
   "cell_type": "markdown",
   "source": [
    "# Zadanie 2\n",
    "Wczytaj `Zadanie_2.csv` \\\n",
    "a) Wektory i wartości własne \\\n",
    "b) Macierz odwrotna"
   ],
   "id": "fff8a201524b2a97"
  },
  {
   "metadata": {},
   "cell_type": "code",
   "source": [
    "mtrx = np.genfromtxt(\"data/01/Zadanie_2.csv\", delimiter=\";\")\n",
    "\n",
    "eigenvalues, eigenvectors = np.linalg.eig(mtrx)\n",
    "inverse = np.linalg.inv(mtrx)\n",
    "\n",
    "print(f\"a1) Eigenvectors:\")\n",
    "for v in eigenvectors:\n",
    "    print(v)\n",
    "print(f\"a2) Eigenvalues: {eigenvalues}\")\n",
    "print(f\"b) Inverse matrix:\\n{fmt(inverse)}\")"
   ],
   "id": "44a3c68e21427fb5",
   "outputs": [],
   "execution_count": null
  },
  {
   "metadata": {},
   "cell_type": "markdown",
   "source": [
    "# Zadanie 3\n",
    "Wczytaj 2 macierze: `Zadanie_3_macierz_A.csv` i `Zadanie_3_macierz_B.csv` \\\n",
    "Wykorzystaj następujący wzór:\n",
    "$$\n",
    "\\frac{A \\cdot B}{||A|| \\cdot ||B||} = \\frac{\\sum_{i=1}^nA_iB_i}{\\sqrt{\\sum_{i=1}^nA_i^2}\\sqrt{\\sum_{i=1}^nB_i^2}}\n",
    "$$\n",
    "Gdzie $A$ i $B$ to wektory reprezentujące kolejne kolumny. \\\n",
    "Aby stworzyć macierz podobieństwa w oparciu o macierze z plików."
   ],
   "id": "b8649b9c0b492b19"
  },
  {
   "metadata": {},
   "cell_type": "code",
   "source": [
    "A = np.genfromtxt(\"data/01/Zadanie_3_macierz_A.csv\", delimiter=\",\")\n",
    "B = np.genfromtxt(\"data/01/Zadanie_3_macierz_B.csv\", delimiter=\",\")\n",
    "\n",
    "cosine_similarity_mtrx = np.dot(A, B.T) / np.outer(np.sqrt(np.sum(A ** 2, axis=1)), np.sqrt(np.sum(B ** 2, axis=1)))\n",
    "\n",
    "print(fmt(cosine_similarity_mtrx))"
   ],
   "id": "fafa4c28f4c6fe9e",
   "outputs": [],
   "execution_count": null
  }
 ],
 "metadata": {
  "kernelspec": {
   "display_name": "Python 3",
   "language": "python",
   "name": "python3"
  },
  "language_info": {
   "codemirror_mode": {
    "name": "ipython",
    "version": 2
   },
   "file_extension": ".py",
   "mimetype": "text/x-python",
   "name": "python",
   "nbconvert_exporter": "python",
   "pygments_lexer": "ipython2",
   "version": "2.7.6"
  }
 },
 "nbformat": 4,
 "nbformat_minor": 5
}
