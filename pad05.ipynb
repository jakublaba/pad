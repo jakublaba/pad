{
 "cells": [
  {
   "metadata": {
    "ExecuteTime": {
     "end_time": "2024-11-19T20:29:10.292343Z",
     "start_time": "2024-11-19T20:29:10.281718Z"
    }
   },
   "cell_type": "code",
   "source": [
    "import os.path\n",
    "import time\n",
    "from typing import List\n",
    "\n",
    "import requests\n",
    "from selenium import webdriver\n",
    "from selenium.webdriver.common.by import By"
   ],
   "id": "e9d113c556e45289",
   "outputs": [],
   "execution_count": 25
  },
  {
   "metadata": {},
   "cell_type": "markdown",
   "source": [
    "# Zadanie 1 (1 pkt)\n",
    "Wejdź na stronę https://www.pap.pl i sprawdź czy pozwala ona na web scraping i sprawdź czy pozwala ona na scraping sprawdzając plik `robots.txt`.\n",
    "Wklej tutaj jego treść.\n",
    "```\n",
    "User-agent: *\n",
    "# Directories\n",
    "Disallow: /wyszukiwanie/\n",
    "Disallow: /en/search/\n",
    "Disallow: /core/\n",
    "Disallow: /profiles/\n",
    "Disallow: /node/\n",
    "Disallow: /en/node/\n",
    "Disallow: /ru/node/\n",
    "Disallow: /ua/node/\n",
    "# Files\n",
    "Disallow: /README.txt\n",
    "Disallow: /web.config\n",
    "# Paths (clean URLs)\n",
    "Disallow: /admin/\n",
    "Disallow: /comment/\n",
    "Disallow: /filter/\n",
    "Disallow: /search/\n",
    "Disallow: /user/\n",
    "Disallow: /media/oembed\n",
    "Disallow: /*/media/oembed\n",
    "Disallow: /index.php/\n",
    "```\n",
    "Strona nie zabrania web scrapingu całkowicie, jednak ogranicza dostęp do pewnych sekcji.\n",
    "Gdyby web scraping był całkowicie zakazany, plik wyglądał by tak:\n",
    "```\n",
    "User-agent: *\n",
    "Disallow: /\n",
    "```"
   ],
   "id": "6d4b4e5c520d7a96"
  },
  {
   "metadata": {},
   "cell_type": "markdown",
   "source": [
    "# Zadanie 2 (8 pkt)\n",
    "Stwórz obiekt driver, który połączy się ze stroną PAP, a następnie użyj go żeby wykonać następujące akcje:\n",
    "1. Zaakceptuj pliki cookies\n",
    "2. Zmaksymalizuj okno przeglądarki\n",
    "3. Zmień język strony na angielski\n",
    "4. Wejdź w sekcję \"Business\"\n",
    "5. Z sekcji \"Business\" ściągnij wszystkie tytuły do listy _titles_\n",
    "6. Ściągnij wszystkie zdjęcia z tej sekcji\n",
    "7. Zejdź na dół strony\n",
    "8. Przejdź na ostatnią stronę i zwróć jej numer (atrybut `text`)"
   ],
   "id": "6ee496015039e044"
  },
  {
   "metadata": {
    "ExecuteTime": {
     "end_time": "2024-11-19T20:29:28.875063Z",
     "start_time": "2024-11-19T20:29:10.297349Z"
    }
   },
   "cell_type": "code",
   "source": [
    "options = webdriver.FirefoxOptions()\n",
    "options.add_argument(\"--incognito\")  # okno incognito żeby przy kolejnych uruchomieniach nie mieć zapamiętanych cookies\n",
    "\n",
    "driver = webdriver.Firefox(options=options)\n",
    "driver.get(\"https://www.pap.pl\")\n",
    "\n",
    "# 1\n",
    "driver.find_element(By.CLASS_NAME, \"ok.closeButton\").click()\n",
    "\n",
    "# 2\n",
    "driver.maximize_window()\n",
    "\n",
    "# 3\n",
    "driver.find_element(By.ID, \"lang-switch\").click()\n",
    "driver.find_element(By.CLASS_NAME, \"choice-en\").click()\n",
    "\n",
    "# 4\n",
    "driver.find_element(By.XPATH, \"//a[@href='/en/business']\").click()\n",
    "\n",
    "# 5\n",
    "titles: List[str] = []\n",
    "articles = driver.find_elements(By.CLASS_NAME, \"title\")\n",
    "for article in articles:\n",
    "    titles.append(article.text)\n",
    "print(titles)\n",
    "\n",
    "# 6\n",
    "imgs_out = \"data/05/zad6_out/\"\n",
    "if not os.path.exists(imgs_out):\n",
    "    os.makedirs(imgs_out)\n",
    "\n",
    "images = driver.find_elements(By.XPATH,\n",
    "                              \"//div[contains(@class, 'newsList')]//div[contains(@class, 'imageWrapper')]//img\")\n",
    "image_urls: List[str] = []\n",
    "for idx, img in enumerate(images):\n",
    "    img_url = img.get_attribute(\"src\")\n",
    "    if img_url:\n",
    "        try:\n",
    "            print(f\"Downloading {img_url}\")\n",
    "            img_content = requests.get(img_url).content\n",
    "            img_filename = os.path.join(imgs_out, f\"img_{idx}.jpg\")\n",
    "            with open(img_filename, \"wb\") as f:\n",
    "                f.write(img_content)\n",
    "            print(f\"Saved to {img_filename}\")\n",
    "        except Exception as e:\n",
    "            print(f\"Got error {e}\")\n",
    "\n",
    "# 7\n",
    "driver.execute_script(\"window.scrollTo(0, document.body.scrollHeight);\")\n",
    "\n",
    "# 8\n",
    "driver.find_element(By.XPATH, \"//li[contains(@class, 'pager__item--last')]/a\").click()\n",
    "# Trzeba wybrać element od nowa po przełączeniu strony, bo przed przełączeniem tekst to \"Ostatnia >>\", a nie numer strony\n",
    "current_page = driver.find_element(By.XPATH,\n",
    "                                   \"//li[contains(@class, 'pager__item') and contains(@class, 'is-active') and contains(@class, 'active')]\")\n",
    "print(current_page.text)\n",
    "\n",
    "# zamykamy przeglądarkę na koniec, małe opóźnienie aby zobaczyć ostatni efekt\n",
    "time.sleep(2)\n",
    "driver.quit()"
   ],
   "id": "ab639dd1f86f62c0",
   "outputs": [
    {
     "name": "stdout",
     "output_type": "stream",
     "text": [
      "['Poland to keep electricity price cap for households in 2025', \"Poland's inflation to reach target in 2026, central bank head says\", 'Polish unis pull out from cooperation with Shein fashion after protests', \"Poland's CPI to stay at 4.5 - 5.0 pct by year-end, central bank head says\", 'EC directs EUR 10 bln in aid to flood-ravaged countries', 'Poland issued over 320,000 work permits in 2023, report shows', 'Poles favour government bonds amid high interest rates', 'Poland to keep electricity price cap for households in 2025\\nBUSINESS', 'EU, UK top diplomats meet in Warsaw to discuss Ukraine, US relations\\nPOLAND', \"Polish president says Scholz-Putin conversation a 'mistake'\\nPOLAND\", \"Polish officials praise Biden's approval of Kyiv's strikes inside Russia\\nPOLAND\", \"Poland's air force mobilised due to Russian massive attack on Ukraine\\nPOLAND\"]\n",
      "Downloading https://www.pap.pl/sites/default/files/styles/list_of_article_big/public/202411/pap_20240810_3DY.jpg?itok=b4oCVoGC\n",
      "Saved to data/05/zad6_out/img_0.jpg\n",
      "Downloading https://www.pap.pl/sites/default/files/styles/list_of_article_small/public/202411/pap_20220918_2OL%20%281%29.jpg?itok=pWzvahX6\n",
      "Saved to data/05/zad6_out/img_1.jpg\n",
      "Downloading https://www.pap.pl/sites/default/files/styles/list_of_article_small/public/202410/6%20%282%29.jpg?itok=ylenRF9f\n",
      "Saved to data/05/zad6_out/img_2.jpg\n",
      "Downloading https://www.pap.pl/sites/default/files/styles/list_of_article_small/public/202410/9.jpg?itok=zxlPMoPC\n",
      "Saved to data/05/zad6_out/img_3.jpg\n",
      "Downloading https://www.pap.pl/sites/default/files/styles/list_of_article_small/public/202409/pap_20240919_1KV.jpg?itok=MqkYs42m\n",
      "Saved to data/05/zad6_out/img_4.jpg\n",
      "Downloading https://www.pap.pl/sites/default/files/styles/list_of_article_small/public/202407/pap_20221012_0RM.jpg?itok=TyGIvLrw\n",
      "Saved to data/05/zad6_out/img_5.jpg\n",
      "Downloading https://www.pap.pl/sites/default/files/styles/list_of_article_small/public/202407/pap_20221006_102.jpg?itok=d5d76sIC\n",
      "Saved to data/05/zad6_out/img_6.jpg\n",
      "92\n"
     ]
    }
   ],
   "execution_count": 26
  },
  {
   "metadata": {},
   "cell_type": "markdown",
   "source": [
    "# Zadanie 3 (1 pkt)\n",
    "Wybierz stronę, z której będziesz pobierać dane do projektu końcowego.\n",
    "\n",
    "Projekt w parze z Maciejem Niszczotą (s32679)\n",
    "\n",
    "Propozycja tematu nr 1: GTFS feed (mobilitydatabase.org). Eksperyment czy można prognozować opóźnienia jedynie na podstawie statycznych rozkładów jazdy?\n",
    "Weryfikacja hipotezy z użyciem feedów GTFS RT (real time). W tym przypadku dane są pobierane z api, a nie stricte scrapowane.\n",
    "Dokumentacja standardu GTFS: https://gtfs.org/\n",
    "\n",
    "Propozycja tematu nr 2: Prognoza czasów sprzedaży pojazdów (otomoto.pl)\n",
    "\n",
    "Propozycja tematu nr 3: Prognoza czasów sprzedaży bądź cen mieszkań (otodom.pl). W przypadku prognoz będzie można zweryfikować wyniki z dostępnymi statystykami odnośnie\n",
    "rynku mieszkaniowego.\n"
   ],
   "id": "6627d5c6343779eb"
  }
 ],
 "metadata": {
  "kernelspec": {
   "display_name": "Python 3",
   "language": "python",
   "name": "python3"
  },
  "language_info": {
   "codemirror_mode": {
    "name": "ipython",
    "version": 2
   },
   "file_extension": ".py",
   "mimetype": "text/x-python",
   "name": "python",
   "nbconvert_exporter": "python",
   "pygments_lexer": "ipython2",
   "version": "2.7.6"
  }
 },
 "nbformat": 4,
 "nbformat_minor": 5
}
